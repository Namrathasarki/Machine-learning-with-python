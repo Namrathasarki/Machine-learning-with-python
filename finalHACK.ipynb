{
  "nbformat": 4,
  "nbformat_minor": 0,
  "metadata": {
    "colab": {
      "provenance": []
    },
    "kernelspec": {
      "name": "python3",
      "display_name": "Python 3"
    },
    "language_info": {
      "name": "python"
    }
  },
  "cells": [
    {
      "cell_type": "code",
      "execution_count": 1,
      "metadata": {
        "id": "RPxp7Kd_rzxu"
      },
      "outputs": [],
      "source": [
        "import pandas as pd\n",
        "import numpy as np\n",
        "import random as rnd\n",
        "\n",
        "import seaborn as sns\n",
        "import matplotlib.pyplot as plt\n",
        "%matplotlib inline\n",
        "import matplotlib.pyplot as plt \n",
        "import seaborn as sns"
      ]
    },
    {
      "cell_type": "code",
      "source": [
        "pd.set_option('Display.max_columns',500)\n",
        "df=pd.read_excel('/content/Mtrain.xlsx')\n",
        "df.head()\n",
        "df.columns #prediction column \"Transported is there\"\n",
        "df.info()"
      ],
      "metadata": {
        "colab": {
          "base_uri": "https://localhost:8080/"
        },
        "id": "9ca5zu0cr54s",
        "outputId": "6bfa78c0-4047-4be2-d786-8fd4c1ab89f8"
      },
      "execution_count": 2,
      "outputs": [
        {
          "output_type": "stream",
          "name": "stdout",
          "text": [
            "<class 'pandas.core.frame.DataFrame'>\n",
            "RangeIndex: 2343 entries, 0 to 2342\n",
            "Data columns (total 19 columns):\n",
            " #   Column                  Non-Null Count  Dtype  \n",
            "---  ------                  --------------  -----  \n",
            " 0   Match_light_type        2310 non-null   object \n",
            " 1   Match_format            2273 non-null   object \n",
            " 2   Bowlers_in_team         2279 non-null   float64\n",
            " 3   All_rounder_in_team     2305 non-null   float64\n",
            " 4   First_selection         2303 non-null   object \n",
            " 5   Opponent                2307 non-null   object \n",
            " 6   Season                  2281 non-null   object \n",
            " 7   Offshore                2283 non-null   object \n",
            " 8   Max_wicket_taken_1over  2343 non-null   int64  \n",
            " 9   Min_run_given_1over     2343 non-null   int64  \n",
            " 10  Players_scored_zero     2343 non-null   int64  \n",
            " 11  player_highest_wicket   2343 non-null   int64  \n",
            " 12  Min_run_scored_1over    2323 non-null   float64\n",
            " 13  extra_bowls_opponent    2343 non-null   int64  \n",
            " 14  Extra_bowls_bowled      2343 non-null   int64  \n",
            " 15  Avg_team_Age            2261 non-null   float64\n",
            " 16  Max_run_given_1over     2315 non-null   float64\n",
            " 17  Max_run_scored_1over    2342 non-null   float64\n",
            " 18  Result                  2343 non-null   int64  \n",
            "dtypes: float64(6), int64(7), object(6)\n",
            "memory usage: 347.9+ KB\n"
          ]
        }
      ]
    },
    {
      "cell_type": "code",
      "source": [
        "pd.set_option('Display.max_columns',500)\n",
        "dt=pd.read_excel('/content/MTest.xlsx')\n",
        "dt.head()\n",
        "dt.columns #prediction column \"Transported is there\"\n",
        "dt.info()"
      ],
      "metadata": {
        "colab": {
          "base_uri": "https://localhost:8080/"
        },
        "id": "JLUue9vSsCqv",
        "outputId": "b0d0e920-53de-43b4-caf3-a8df48734191"
      },
      "execution_count": 3,
      "outputs": [
        {
          "output_type": "stream",
          "name": "stdout",
          "text": [
            "<class 'pandas.core.frame.DataFrame'>\n",
            "RangeIndex: 587 entries, 0 to 586\n",
            "Data columns (total 18 columns):\n",
            " #   Column                  Non-Null Count  Dtype  \n",
            "---  ------                  --------------  -----  \n",
            " 0   Match_light_type        568 non-null    object \n",
            " 1   Match_format            587 non-null    object \n",
            " 2   Bowlers_in_team         569 non-null    float64\n",
            " 3   All_rounder_in_team     585 non-null    float64\n",
            " 4   First_selection         568 non-null    object \n",
            " 5   Opponent                587 non-null    object \n",
            " 6   Season                  587 non-null    object \n",
            " 7   Offshore                583 non-null    object \n",
            " 8   Max_wicket_taken_1over  587 non-null    int64  \n",
            " 9   Min_run_given_1over     587 non-null    int64  \n",
            " 10  Players_scored_zero     587 non-null    int64  \n",
            " 11  player_highest_wicket   587 non-null    int64  \n",
            " 12  Min_run_scored_1over    580 non-null    float64\n",
            " 13  extra_bowls_opponent    587 non-null    int64  \n",
            " 14  Extra_bowls_bowled      587 non-null    int64  \n",
            " 15  Avg_team_Age            572 non-null    float64\n",
            " 16  Max_run_given_1over     581 non-null    float64\n",
            " 17  Max_run_scored_1over    587 non-null    int64  \n",
            "dtypes: float64(5), int64(7), object(6)\n",
            "memory usage: 82.7+ KB\n"
          ]
        }
      ]
    },
    {
      "cell_type": "code",
      "source": [
        "df.drop(['Max_run_scored_1over','First_selection'],axis=1,inplace=True)\n",
        "dt.drop(['Max_run_scored_1over','First_selection'],axis=1,inplace=True)"
      ],
      "metadata": {
        "id": "B6uxTyZ3sFWM"
      },
      "execution_count": 4,
      "outputs": []
    },
    {
      "cell_type": "code",
      "source": [
        "dt.select_dtypes(include='object')\n",
        "dt=pd.get_dummies(dt,drop_first=True)\n",
        "dt.head()\n",
        "dt.info()"
      ],
      "metadata": {
        "colab": {
          "base_uri": "https://localhost:8080/"
        },
        "id": "DYprXwY7sIUT",
        "outputId": "cee1cd7e-40f3-4b39-9600-da9ef0c31df6"
      },
      "execution_count": 5,
      "outputs": [
        {
          "output_type": "stream",
          "name": "stdout",
          "text": [
            "<class 'pandas.core.frame.DataFrame'>\n",
            "RangeIndex: 587 entries, 0 to 586\n",
            "Data columns (total 27 columns):\n",
            " #   Column                          Non-Null Count  Dtype  \n",
            "---  ------                          --------------  -----  \n",
            " 0   Bowlers_in_team                 569 non-null    float64\n",
            " 1   All_rounder_in_team             585 non-null    float64\n",
            " 2   Max_wicket_taken_1over          587 non-null    int64  \n",
            " 3   Min_run_given_1over             587 non-null    int64  \n",
            " 4   Players_scored_zero             587 non-null    int64  \n",
            " 5   player_highest_wicket           587 non-null    int64  \n",
            " 6   Min_run_scored_1over            580 non-null    float64\n",
            " 7   extra_bowls_opponent            587 non-null    int64  \n",
            " 8   Extra_bowls_bowled              587 non-null    int64  \n",
            " 9   Avg_team_Age                    572 non-null    float64\n",
            " 10  Max_run_given_1over             581 non-null    float64\n",
            " 11  Match_light_type_Day and Night  587 non-null    uint8  \n",
            " 12  Match_light_type_Night          587 non-null    uint8  \n",
            " 13  Match_format_ODI                587 non-null    uint8  \n",
            " 14  Match_format_T20                587 non-null    uint8  \n",
            " 15  Match_format_Test               587 non-null    uint8  \n",
            " 16  Opponent_Bangladesh             587 non-null    uint8  \n",
            " 17  Opponent_England                587 non-null    uint8  \n",
            " 18  Opponent_Kenya                  587 non-null    uint8  \n",
            " 19  Opponent_Pakistan               587 non-null    uint8  \n",
            " 20  Opponent_South Africa           587 non-null    uint8  \n",
            " 21  Opponent_Srilanka               587 non-null    uint8  \n",
            " 22  Opponent_West Indies            587 non-null    uint8  \n",
            " 23  Opponent_Zimbabwe               587 non-null    uint8  \n",
            " 24  Season_Summer                   587 non-null    uint8  \n",
            " 25  Season_Winter                   587 non-null    uint8  \n",
            " 26  Offshore_Yes                    587 non-null    uint8  \n",
            "dtypes: float64(5), int64(6), uint8(16)\n",
            "memory usage: 59.7 KB\n"
          ]
        }
      ]
    },
    {
      "cell_type": "code",
      "source": [
        "df.select_dtypes(include='object')\n",
        "df=pd.get_dummies(df,drop_first=True)\n",
        "df.head()\n",
        "df.info()"
      ],
      "metadata": {
        "colab": {
          "base_uri": "https://localhost:8080/"
        },
        "id": "V0tWPfeWsK8t",
        "outputId": "b870f202-d633-46c7-8745-3d6619609c2e"
      },
      "execution_count": 6,
      "outputs": [
        {
          "output_type": "stream",
          "name": "stdout",
          "text": [
            "<class 'pandas.core.frame.DataFrame'>\n",
            "RangeIndex: 2343 entries, 0 to 2342\n",
            "Data columns (total 28 columns):\n",
            " #   Column                          Non-Null Count  Dtype  \n",
            "---  ------                          --------------  -----  \n",
            " 0   Bowlers_in_team                 2279 non-null   float64\n",
            " 1   All_rounder_in_team             2305 non-null   float64\n",
            " 2   Max_wicket_taken_1over          2343 non-null   int64  \n",
            " 3   Min_run_given_1over             2343 non-null   int64  \n",
            " 4   Players_scored_zero             2343 non-null   int64  \n",
            " 5   player_highest_wicket           2343 non-null   int64  \n",
            " 6   Min_run_scored_1over            2323 non-null   float64\n",
            " 7   extra_bowls_opponent            2343 non-null   int64  \n",
            " 8   Extra_bowls_bowled              2343 non-null   int64  \n",
            " 9   Avg_team_Age                    2261 non-null   float64\n",
            " 10  Max_run_given_1over             2315 non-null   float64\n",
            " 11  Result                          2343 non-null   int64  \n",
            " 12  Match_light_type_Day and Night  2343 non-null   uint8  \n",
            " 13  Match_light_type_Night          2343 non-null   uint8  \n",
            " 14  Match_format_ODI                2343 non-null   uint8  \n",
            " 15  Match_format_T20                2343 non-null   uint8  \n",
            " 16  Match_format_Test               2343 non-null   uint8  \n",
            " 17  Opponent_Bangladesh             2343 non-null   uint8  \n",
            " 18  Opponent_England                2343 non-null   uint8  \n",
            " 19  Opponent_Kenya                  2343 non-null   uint8  \n",
            " 20  Opponent_Pakistan               2343 non-null   uint8  \n",
            " 21  Opponent_South Africa           2343 non-null   uint8  \n",
            " 22  Opponent_Srilanka               2343 non-null   uint8  \n",
            " 23  Opponent_West Indies            2343 non-null   uint8  \n",
            " 24  Opponent_Zimbabwe               2343 non-null   uint8  \n",
            " 25  Season_Rainy                    2343 non-null   uint8  \n",
            " 26  Season_Summer                   2343 non-null   uint8  \n",
            " 27  Offshore_Yes                    2343 non-null   uint8  \n",
            "dtypes: float64(5), int64(7), uint8(16)\n",
            "memory usage: 256.4 KB\n"
          ]
        }
      ]
    },
    {
      "cell_type": "code",
      "source": [
        "df.isnull().sum()\n"
      ],
      "metadata": {
        "colab": {
          "base_uri": "https://localhost:8080/"
        },
        "id": "XOsBCVxUsNf9",
        "outputId": "449c0f14-eff0-446b-b7b8-f5003c46d8b0"
      },
      "execution_count": 9,
      "outputs": [
        {
          "output_type": "execute_result",
          "data": {
            "text/plain": [
              "Bowlers_in_team                   64\n",
              "All_rounder_in_team               38\n",
              "Max_wicket_taken_1over             0\n",
              "Min_run_given_1over                0\n",
              "Players_scored_zero                0\n",
              "player_highest_wicket              0\n",
              "Min_run_scored_1over              20\n",
              "extra_bowls_opponent               0\n",
              "Extra_bowls_bowled                 0\n",
              "Avg_team_Age                      82\n",
              "Max_run_given_1over               28\n",
              "Result                             0\n",
              "Match_light_type_Day and Night     0\n",
              "Match_light_type_Night             0\n",
              "Match_format_ODI                   0\n",
              "Match_format_T20                   0\n",
              "Match_format_Test                  0\n",
              "Opponent_Bangladesh                0\n",
              "Opponent_England                   0\n",
              "Opponent_Kenya                     0\n",
              "Opponent_Pakistan                  0\n",
              "Opponent_South Africa              0\n",
              "Opponent_Srilanka                  0\n",
              "Opponent_West Indies               0\n",
              "Opponent_Zimbabwe                  0\n",
              "Season_Rainy                       0\n",
              "Season_Summer                      0\n",
              "Offshore_Yes                       0\n",
              "dtype: int64"
            ]
          },
          "metadata": {},
          "execution_count": 9
        }
      ]
    },
    {
      "cell_type": "code",
      "source": [
        "dt.isnull().sum()"
      ],
      "metadata": {
        "colab": {
          "base_uri": "https://localhost:8080/"
        },
        "id": "uiokn-MKsYtU",
        "outputId": "f7234757-b270-4c60-fed9-cb5441798778"
      },
      "execution_count": 8,
      "outputs": [
        {
          "output_type": "execute_result",
          "data": {
            "text/plain": [
              "Bowlers_in_team                   18\n",
              "All_rounder_in_team                2\n",
              "Max_wicket_taken_1over             0\n",
              "Min_run_given_1over                0\n",
              "Players_scored_zero                0\n",
              "player_highest_wicket              0\n",
              "Min_run_scored_1over               7\n",
              "extra_bowls_opponent               0\n",
              "Extra_bowls_bowled                 0\n",
              "Avg_team_Age                      15\n",
              "Max_run_given_1over                6\n",
              "Match_light_type_Day and Night     0\n",
              "Match_light_type_Night             0\n",
              "Match_format_ODI                   0\n",
              "Match_format_T20                   0\n",
              "Match_format_Test                  0\n",
              "Opponent_Bangladesh                0\n",
              "Opponent_England                   0\n",
              "Opponent_Kenya                     0\n",
              "Opponent_Pakistan                  0\n",
              "Opponent_South Africa              0\n",
              "Opponent_Srilanka                  0\n",
              "Opponent_West Indies               0\n",
              "Opponent_Zimbabwe                  0\n",
              "Season_Summer                      0\n",
              "Season_Winter                      0\n",
              "Offshore_Yes                       0\n",
              "dtype: int64"
            ]
          },
          "metadata": {},
          "execution_count": 8
        }
      ]
    },
    {
      "cell_type": "code",
      "source": [
        "dt.isnull().sum()"
      ],
      "metadata": {
        "colab": {
          "base_uri": "https://localhost:8080/"
        },
        "id": "wOSgo8uMu9e5",
        "outputId": "40c76283-6285-46f7-dd6a-918357a1c645"
      },
      "execution_count": 27,
      "outputs": [
        {
          "output_type": "execute_result",
          "data": {
            "text/plain": [
              "Bowlers_in_team                   0\n",
              "All_rounder_in_team               0\n",
              "Max_wicket_taken_1over            0\n",
              "Min_run_given_1over               0\n",
              "Players_scored_zero               0\n",
              "player_highest_wicket             0\n",
              "Min_run_scored_1over              0\n",
              "extra_bowls_opponent              0\n",
              "Extra_bowls_bowled                0\n",
              "Avg_team_Age                      0\n",
              "Max_run_given_1over               0\n",
              "Match_light_type_Day and Night    0\n",
              "Match_light_type_Night            0\n",
              "Match_format_ODI                  0\n",
              "Match_format_T20                  0\n",
              "Match_format_Test                 0\n",
              "Opponent_Bangladesh               0\n",
              "Opponent_England                  0\n",
              "Opponent_Kenya                    0\n",
              "Opponent_Pakistan                 0\n",
              "Opponent_South Africa             0\n",
              "Opponent_Srilanka                 0\n",
              "Opponent_West Indies              0\n",
              "Opponent_Zimbabwe                 0\n",
              "Season_Summer                     0\n",
              "Season_Winter                     0\n",
              "Offshore_Yes                      0\n",
              "dtype: int64"
            ]
          },
          "metadata": {},
          "execution_count": 27
        }
      ]
    },
    {
      "cell_type": "code",
      "source": [
        "df.isnull().sum()"
      ],
      "metadata": {
        "colab": {
          "base_uri": "https://localhost:8080/"
        },
        "id": "bARA2al9vB0R",
        "outputId": "e87b7b7b-e589-4767-da18-0a4ca9821645"
      },
      "execution_count": 28,
      "outputs": [
        {
          "output_type": "execute_result",
          "data": {
            "text/plain": [
              "Bowlers_in_team                   0\n",
              "All_rounder_in_team               0\n",
              "Max_wicket_taken_1over            0\n",
              "Min_run_given_1over               0\n",
              "Players_scored_zero               0\n",
              "player_highest_wicket             0\n",
              "Min_run_scored_1over              0\n",
              "extra_bowls_opponent              0\n",
              "Extra_bowls_bowled                0\n",
              "Avg_team_Age                      0\n",
              "Max_run_given_1over               0\n",
              "Result                            0\n",
              "Match_light_type_Day and Night    0\n",
              "Match_light_type_Night            0\n",
              "Match_format_ODI                  0\n",
              "Match_format_T20                  0\n",
              "Match_format_Test                 0\n",
              "Opponent_Bangladesh               0\n",
              "Opponent_England                  0\n",
              "Opponent_Kenya                    0\n",
              "Opponent_Pakistan                 0\n",
              "Opponent_South Africa             0\n",
              "Opponent_Srilanka                 0\n",
              "Opponent_West Indies              0\n",
              "Opponent_Zimbabwe                 0\n",
              "Season_Rainy                      0\n",
              "Season_Summer                     0\n",
              "Offshore_Yes                      0\n",
              "dtype: int64"
            ]
          },
          "metadata": {},
          "execution_count": 28
        }
      ]
    },
    {
      "cell_type": "code",
      "source": [
        "df['Avg_team_Age'].fillna(df['Avg_team_Age'].mean(),inplace=True)\n",
        "dt['Avg_team_Age'].fillna(dt['Avg_team_Age'].mean(),inplace=True)\n",
        "\n",
        "df['Bowlers_in_team'].fillna(df['Bowlers_in_team'].median(),inplace=True)\n",
        "dt['Bowlers_in_team'].fillna(dt['Bowlers_in_team'].median(),inplace=True)\n",
        "\n",
        "df['All_rounder_in_team'].fillna(df['All_rounder_in_team'].median(),inplace=True)\n",
        "dt['All_rounder_in_team'].fillna(dt['All_rounder_in_team'].median(),inplace=True)\n",
        "\n",
        "df['Min_run_scored_1over'].fillna(df['Min_run_scored_1over'].median(),inplace=True)\n",
        "dt['Min_run_scored_1over'].fillna(dt['Min_run_scored_1over'].median(),inplace=True)\n",
        "\n",
        "df['Max_run_given_1over'].fillna(df['Max_run_given_1over'].median(),inplace=True)\n",
        "dt['Max_run_given_1over'].fillna(dt['Max_run_given_1over'].median(),inplace=True)\n",
        "\n",
        "\n",
        "\n",
        "\n",
        "\n",
        "\n"
      ],
      "metadata": {
        "id": "tS0UVVTXuMRS"
      },
      "execution_count": 25,
      "outputs": []
    },
    {
      "cell_type": "code",
      "source": [
        "df['Result'].value_counts()\n",
        "df.shape"
      ],
      "metadata": {
        "colab": {
          "base_uri": "https://localhost:8080/"
        },
        "id": "rR1-a1NVsdPR",
        "outputId": "5e7d49ef-c100-422a-cbe9-2a0e47f0edcc"
      },
      "execution_count": 26,
      "outputs": [
        {
          "output_type": "execute_result",
          "data": {
            "text/plain": [
              "(2343, 28)"
            ]
          },
          "metadata": {},
          "execution_count": 26
        }
      ]
    },
    {
      "cell_type": "code",
      "source": [
        "dt.shape"
      ],
      "metadata": {
        "colab": {
          "base_uri": "https://localhost:8080/"
        },
        "id": "s5Apykdiskas",
        "outputId": "3c6bc8f5-086c-4f29-bcc7-c51f991a18cf"
      },
      "execution_count": 11,
      "outputs": [
        {
          "output_type": "execute_result",
          "data": {
            "text/plain": [
              "(587, 27)"
            ]
          },
          "metadata": {},
          "execution_count": 11
        }
      ]
    },
    {
      "cell_type": "code",
      "source": [
        "X=df.drop(['Result'],axis=1)\n",
        "X.info()"
      ],
      "metadata": {
        "colab": {
          "base_uri": "https://localhost:8080/"
        },
        "id": "O4nhQDn3snl5",
        "outputId": "622e10e7-69fc-432e-d2dd-6c2b3f15ed5e"
      },
      "execution_count": 29,
      "outputs": [
        {
          "output_type": "stream",
          "name": "stdout",
          "text": [
            "<class 'pandas.core.frame.DataFrame'>\n",
            "RangeIndex: 2343 entries, 0 to 2342\n",
            "Data columns (total 27 columns):\n",
            " #   Column                          Non-Null Count  Dtype  \n",
            "---  ------                          --------------  -----  \n",
            " 0   Bowlers_in_team                 2343 non-null   float64\n",
            " 1   All_rounder_in_team             2343 non-null   float64\n",
            " 2   Max_wicket_taken_1over          2343 non-null   int64  \n",
            " 3   Min_run_given_1over             2343 non-null   int64  \n",
            " 4   Players_scored_zero             2343 non-null   int64  \n",
            " 5   player_highest_wicket           2343 non-null   int64  \n",
            " 6   Min_run_scored_1over            2343 non-null   float64\n",
            " 7   extra_bowls_opponent            2343 non-null   int64  \n",
            " 8   Extra_bowls_bowled              2343 non-null   int64  \n",
            " 9   Avg_team_Age                    2343 non-null   float64\n",
            " 10  Max_run_given_1over             2343 non-null   float64\n",
            " 11  Match_light_type_Day and Night  2343 non-null   uint8  \n",
            " 12  Match_light_type_Night          2343 non-null   uint8  \n",
            " 13  Match_format_ODI                2343 non-null   uint8  \n",
            " 14  Match_format_T20                2343 non-null   uint8  \n",
            " 15  Match_format_Test               2343 non-null   uint8  \n",
            " 16  Opponent_Bangladesh             2343 non-null   uint8  \n",
            " 17  Opponent_England                2343 non-null   uint8  \n",
            " 18  Opponent_Kenya                  2343 non-null   uint8  \n",
            " 19  Opponent_Pakistan               2343 non-null   uint8  \n",
            " 20  Opponent_South Africa           2343 non-null   uint8  \n",
            " 21  Opponent_Srilanka               2343 non-null   uint8  \n",
            " 22  Opponent_West Indies            2343 non-null   uint8  \n",
            " 23  Opponent_Zimbabwe               2343 non-null   uint8  \n",
            " 24  Season_Rainy                    2343 non-null   uint8  \n",
            " 25  Season_Summer                   2343 non-null   uint8  \n",
            " 26  Offshore_Yes                    2343 non-null   uint8  \n",
            "dtypes: float64(5), int64(6), uint8(16)\n",
            "memory usage: 238.1 KB\n"
          ]
        }
      ]
    },
    {
      "cell_type": "code",
      "source": [
        "y=df['Result']\n",
        "y\n"
      ],
      "metadata": {
        "colab": {
          "base_uri": "https://localhost:8080/"
        },
        "id": "9r-WcPo6sri6",
        "outputId": "dd77f10e-d450-4968-856c-8564ceed5444"
      },
      "execution_count": 30,
      "outputs": [
        {
          "output_type": "execute_result",
          "data": {
            "text/plain": [
              "0       0\n",
              "1       1\n",
              "2       0\n",
              "3       1\n",
              "4       0\n",
              "       ..\n",
              "2338    1\n",
              "2339    1\n",
              "2340    1\n",
              "2341    1\n",
              "2342    1\n",
              "Name: Result, Length: 2343, dtype: int64"
            ]
          },
          "metadata": {},
          "execution_count": 30
        }
      ]
    },
    {
      "cell_type": "code",
      "source": [
        "#Splitting the dataset (we will name as train and validation dataset)\n",
        "from sklearn.model_selection import train_test_split\n",
        "X_train,X_valid,y_train,y_valid=train_test_split(X,y,test_size=0.2,random_state=4)"
      ],
      "metadata": {
        "id": "LXdJftdqs-yD"
      },
      "execution_count": 31,
      "outputs": []
    },
    {
      "cell_type": "code",
      "source": [
        "#Standardization of dataset\n",
        "from sklearn.preprocessing import StandardScaler\n",
        "sc=StandardScaler()\n",
        "X_train=sc.fit_transform(X_train)\n",
        "X_train\n"
      ],
      "metadata": {
        "colab": {
          "base_uri": "https://localhost:8080/"
        },
        "id": "yULO0CZNtD5r",
        "outputId": "e833b736-2c81-48b6-ad68-e8b7a397673b"
      },
      "execution_count": 32,
      "outputs": [
        {
          "output_type": "execute_result",
          "data": {
            "text/plain": [
              "array([[-0.85975015,  1.16755795,  1.18945982, ..., -0.87821782,\n",
              "         1.47157757, -0.62301537],\n",
              "       [ 1.10389614, -1.60206686, -1.60033705, ...,  1.13866967,\n",
              "        -0.67954284, -0.62301537],\n",
              "       [ 1.10389614,  1.16755795, -1.60033705, ..., -0.87821782,\n",
              "         1.47157757,  1.60509684],\n",
              "       ...,\n",
              "       [ 0.122073  , -0.67885859, -0.67040476, ...,  1.13866967,\n",
              "        -0.67954284, -0.62301537],\n",
              "       [ 0.122073  ,  1.16755795,  0.25952753, ...,  1.13866967,\n",
              "        -0.67954284, -0.62301537],\n",
              "       [ 0.122073  ,  0.24434968, -0.67040476, ...,  1.13866967,\n",
              "        -0.67954284, -0.62301537]])"
            ]
          },
          "metadata": {},
          "execution_count": 32
        }
      ]
    },
    {
      "cell_type": "code",
      "source": [
        "X_valid=sc.transform(X_valid)\n",
        "X_valid"
      ],
      "metadata": {
        "colab": {
          "base_uri": "https://localhost:8080/"
        },
        "id": "FdWdOPu1tdbI",
        "outputId": "c82736af-c0d2-4b0e-8a91-c3f9b868b3f9"
      },
      "execution_count": 33,
      "outputs": [
        {
          "output_type": "execute_result",
          "data": {
            "text/plain": [
              "array([[ 0.122073  ,  0.24434968, -1.60033705, ..., -0.87821782,\n",
              "         1.47157757, -0.62301537],\n",
              "       [-0.85975015, -1.60206686,  1.18945982, ...,  1.13866967,\n",
              "        -0.67954284, -0.62301537],\n",
              "       [ 0.122073  ,  0.24434968, -0.67040476, ...,  1.13866967,\n",
              "        -0.67954284, -0.62301537],\n",
              "       ...,\n",
              "       [-1.84157329, -1.60206686,  0.25952753, ..., -0.87821782,\n",
              "        -0.67954284, -0.62301537],\n",
              "       [ 0.122073  ,  1.16755795,  1.18945982, ..., -0.87821782,\n",
              "        -0.67954284, -0.62301537],\n",
              "       [-1.84157329, -0.67885859,  1.18945982, ..., -0.87821782,\n",
              "         1.47157757, -0.62301537]])"
            ]
          },
          "metadata": {},
          "execution_count": 33
        }
      ]
    },
    {
      "cell_type": "code",
      "source": [
        "df_test_scaled=sc.fit_transform(dt)\n",
        "df_test_scaled"
      ],
      "metadata": {
        "colab": {
          "base_uri": "https://localhost:8080/"
        },
        "id": "OtdhMu-2tpUh",
        "outputId": "d3ad2e43-4f5b-43ca-8071-cace535dd6ed"
      },
      "execution_count": 34,
      "outputs": [
        {
          "output_type": "execute_result",
          "data": {
            "text/plain": [
              "array([[-0.10991865, -0.66394024,  1.23494479, ...,  1.57269602,\n",
              "        -0.53598573,  1.63363093],\n",
              "       [ 0.94782314,  0.2466507 ,  0.31383603, ..., -0.63585078,\n",
              "         1.86572132,  1.63363093],\n",
              "       [ 0.94782314, -1.57453117,  1.23494479, ..., -0.63585078,\n",
              "         1.86572132, -0.61213337],\n",
              "       ...,\n",
              "       [ 0.94782314,  0.2466507 ,  1.23494479, ..., -0.63585078,\n",
              "        -0.53598573,  1.63363093],\n",
              "       [ 0.94782314,  0.2466507 , -0.60727273, ..., -0.63585078,\n",
              "        -0.53598573, -0.61213337],\n",
              "       [ 0.94782314,  0.2466507 ,  1.23494479, ..., -0.63585078,\n",
              "        -0.53598573, -0.61213337]])"
            ]
          },
          "metadata": {},
          "execution_count": 34
        }
      ]
    },
    {
      "cell_type": "code",
      "source": [
        "print(X_train.shape)\n",
        "print(X_valid.shape)\n",
        "print(df_test_scaled.shape)\n"
      ],
      "metadata": {
        "colab": {
          "base_uri": "https://localhost:8080/"
        },
        "id": "tJuLDFputthL",
        "outputId": "00d551cd-ae65-4b15-8d41-62e73530f9e9"
      },
      "execution_count": 35,
      "outputs": [
        {
          "output_type": "stream",
          "name": "stdout",
          "text": [
            "(1874, 27)\n",
            "(469, 27)\n",
            "(587, 27)\n"
          ]
        }
      ]
    },
    {
      "cell_type": "code",
      "source": [
        "#random forest\n",
        "from sklearn.ensemble import RandomForestClassifier \n",
        "rdf = RandomForestClassifier(n_estimators = 10, criterion= 'gini')"
      ],
      "metadata": {
        "id": "Vyv9XcIxtvrw"
      },
      "execution_count": 36,
      "outputs": []
    },
    {
      "cell_type": "code",
      "source": [
        "rdf.fit(X_train,y_train)\n",
        "y_pred_rdf=rdf.predict(X_valid)"
      ],
      "metadata": {
        "id": "AaNW3Edltx3q"
      },
      "execution_count": 43,
      "outputs": []
    },
    {
      "cell_type": "code",
      "source": [
        "from sklearn.metrics import confusion_matrix,accuracy_score,classification_report,roc_auc_score\n",
        "confusion_matrix(y_valid, y_pred_rdf)\n",
        "accuracy_score(y_valid,y_pred_rdf)\n",
        "classification_report(y_valid, y_pred_rdf)\n",
        "roc_auc_score(y_valid,y_pred_rdf)"
      ],
      "metadata": {
        "colab": {
          "base_uri": "https://localhost:8080/"
        },
        "id": "H0pb8u_vvZaC",
        "outputId": "ab9264c7-e755-4b93-8dcb-fd06d1380d1b"
      },
      "execution_count": 44,
      "outputs": [
        {
          "output_type": "execute_result",
          "data": {
            "text/plain": [
              "0.8423645320197044"
            ]
          },
          "metadata": {},
          "execution_count": 44
        }
      ]
    },
    {
      "cell_type": "code",
      "source": [
        "y_test_pred=rdf.predict(df_test_scaled)\n",
        "y_test_pred\n"
      ],
      "metadata": {
        "colab": {
          "base_uri": "https://localhost:8080/"
        },
        "id": "R-_5yWqVxIZi",
        "outputId": "62f72502-3f67-42e2-e54f-56f6fc576f95"
      },
      "execution_count": 45,
      "outputs": [
        {
          "output_type": "execute_result",
          "data": {
            "text/plain": [
              "array([1, 1, 1, 1, 1, 1, 1, 1, 1, 1, 1, 1, 1, 1, 1, 1, 0, 1, 1, 1, 1, 1,\n",
              "       1, 1, 1, 1, 1, 1, 1, 1, 0, 1, 1, 1, 0, 1, 1, 1, 1, 1, 1, 1, 1, 1,\n",
              "       1, 1, 1, 0, 1, 1, 1, 1, 1, 0, 1, 1, 1, 1, 1, 0, 1, 1, 1, 1, 1, 1,\n",
              "       1, 1, 1, 1, 0, 1, 1, 0, 1, 1, 1, 1, 1, 0, 1, 1, 1, 1, 1, 1, 1, 1,\n",
              "       1, 1, 1, 1, 1, 1, 1, 1, 1, 1, 1, 1, 1, 1, 1, 1, 1, 1, 1, 1, 0, 1,\n",
              "       1, 1, 1, 1, 1, 1, 1, 1, 0, 1, 1, 1, 1, 1, 1, 1, 1, 1, 1, 1, 0, 1,\n",
              "       1, 1, 1, 1, 1, 1, 1, 1, 1, 1, 1, 1, 1, 1, 1, 1, 1, 1, 1, 1, 0, 1,\n",
              "       1, 1, 1, 0, 1, 1, 1, 1, 1, 1, 1, 1, 1, 1, 1, 1, 1, 1, 1, 1, 1, 1,\n",
              "       1, 1, 1, 1, 1, 1, 1, 0, 1, 0, 1, 1, 1, 1, 1, 1, 1, 1, 1, 1, 1, 1,\n",
              "       0, 1, 1, 1, 1, 1, 1, 1, 1, 1, 1, 0, 1, 1, 1, 0, 1, 1, 1, 1, 1, 1,\n",
              "       1, 1, 1, 1, 1, 1, 1, 1, 1, 1, 1, 1, 0, 1, 1, 1, 1, 1, 1, 1, 1, 1,\n",
              "       1, 1, 1, 1, 1, 1, 1, 1, 1, 1, 1, 0, 1, 1, 0, 1, 1, 1, 1, 1, 1, 1,\n",
              "       0, 1, 1, 1, 1, 1, 1, 1, 1, 1, 1, 1, 1, 1, 1, 1, 1, 1, 1, 1, 1, 1,\n",
              "       1, 1, 1, 1, 1, 1, 1, 1, 1, 1, 1, 1, 1, 1, 1, 1, 0, 1, 1, 1, 1, 1,\n",
              "       1, 1, 1, 0, 1, 1, 1, 1, 1, 1, 1, 1, 1, 1, 1, 1, 1, 1, 1, 1, 1, 1,\n",
              "       1, 1, 1, 1, 1, 1, 1, 1, 1, 1, 1, 1, 1, 1, 1, 1, 1, 1, 1, 0, 1, 1,\n",
              "       1, 1, 1, 1, 1, 1, 0, 0, 1, 1, 1, 1, 1, 1, 1, 1, 1, 1, 1, 1, 1, 1,\n",
              "       1, 1, 1, 1, 1, 1, 1, 1, 1, 1, 1, 1, 0, 1, 1, 1, 1, 1, 1, 1, 1, 1,\n",
              "       1, 1, 1, 1, 0, 1, 1, 1, 1, 1, 1, 1, 1, 1, 0, 1, 0, 1, 1, 1, 1, 1,\n",
              "       1, 0, 1, 1, 1, 1, 1, 1, 1, 1, 1, 1, 1, 0, 1, 1, 1, 1, 1, 1, 1, 0,\n",
              "       1, 1, 1, 1, 1, 1, 0, 1, 1, 1, 1, 1, 1, 1, 1, 1, 1, 1, 1, 1, 1, 1,\n",
              "       1, 1, 1, 1, 1, 1, 1, 1, 1, 1, 1, 1, 0, 1, 1, 1, 1, 1, 1, 1, 1, 1,\n",
              "       1, 1, 1, 1, 1, 1, 0, 1, 1, 1, 1, 1, 1, 1, 1, 1, 1, 1, 1, 1, 1, 1,\n",
              "       0, 1, 1, 1, 1, 1, 1, 1, 1, 1, 1, 1, 0, 1, 1, 1, 1, 1, 1, 1, 1, 1,\n",
              "       1, 0, 1, 1, 0, 1, 1, 1, 1, 1, 1, 0, 1, 1, 1, 1, 1, 1, 1, 1, 1, 1,\n",
              "       1, 1, 1, 1, 1, 1, 1, 1, 1, 1, 0, 1, 1, 1, 1, 1, 1, 1, 1, 1, 1, 1,\n",
              "       1, 1, 1, 1, 1, 1, 1, 1, 1, 1, 1, 1, 1, 1, 1])"
            ]
          },
          "metadata": {},
          "execution_count": 45
        }
      ]
    },
    {
      "cell_type": "code",
      "source": [
        "#Generating csv for submission\n",
        "#since we had removed columns we will take the data once again\n",
        "df_test_data=pd.read_excel('/content/MTest.xlsx')\n",
        "df_test_data.columns\n"
      ],
      "metadata": {
        "colab": {
          "base_uri": "https://localhost:8080/"
        },
        "id": "p6swP2MVxSEy",
        "outputId": "ca7b0ee8-3c36-493c-c292-202f3d73fce8"
      },
      "execution_count": 47,
      "outputs": [
        {
          "output_type": "execute_result",
          "data": {
            "text/plain": [
              "Index(['Match_light_type', 'Match_format', 'Bowlers_in_team',\n",
              "       'All_rounder_in_team', 'First_selection', 'Opponent', 'Season',\n",
              "       'Offshore', 'Max_wicket_taken_1over', 'Min_run_given_1over',\n",
              "       'Players_scored_zero', 'player_highest_wicket', 'Min_run_scored_1over',\n",
              "       'extra_bowls_opponent', 'Extra_bowls_bowled', 'Avg_team_Age',\n",
              "       'Max_run_given_1over', 'Max_run_scored_1over'],\n",
              "      dtype='object')"
            ]
          },
          "metadata": {},
          "execution_count": 47
        }
      ]
    },
    {
      "cell_type": "code",
      "source": [
        "sub=pd.DataFrame({\n",
        "    'Result':y_test_pred})\n"
      ],
      "metadata": {
        "id": "-vcblSZMxU5k"
      },
      "execution_count": 51,
      "outputs": []
    },
    {
      "cell_type": "code",
      "source": [
        "sub.to_csv('submission.csv',index=False)"
      ],
      "metadata": {
        "id": "OUieibczxuIu"
      },
      "execution_count": 52,
      "outputs": []
    },
    {
      "cell_type": "code",
      "source": [],
      "metadata": {
        "id": "kotQZyE7yNFx"
      },
      "execution_count": null,
      "outputs": []
    }
  ]
}